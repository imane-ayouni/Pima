{
 "cells": [
  {
   "cell_type": "code",
   "execution_count": null,
   "id": "9dba1106",
   "metadata": {},
   "outputs": [],
   "source": [
    "import pandas as pd\n",
    "\n",
    "diabetes_data = pd.read_csv(r'C:\\Users\\imane\\OneDrive\\Desktop\\Pima\\diabetes.csv', sep =\",\", encoding = \"utf-8\")\n",
    "diabetes_data"
   ]
  },
  {
   "cell_type": "code",
   "execution_count": null,
   "id": "2a76408b",
   "metadata": {},
   "outputs": [],
   "source": [
    "diabetes_data.info()"
   ]
  },
  {
   "cell_type": "code",
   "execution_count": null,
   "id": "23ab7909",
   "metadata": {},
   "outputs": [],
   "source": [
    "import matplotlib.pyplot as plt\n",
    "diabetes_data.hist(bins=70, figsize=(20, 15))"
   ]
  },
  {
   "cell_type": "code",
   "execution_count": null,
   "id": "eee99bd5",
   "metadata": {},
   "outputs": [],
   "source": [
    "import seaborn as sns\n",
    "sns.heatmap(diabetes_data.corr(), annot = True)"
   ]
  },
  {
   "cell_type": "code",
   "execution_count": null,
   "id": "85f8f90d",
   "metadata": {},
   "outputs": [],
   "source": [
    "median_glucose = diabetes_data[\"Glucose\"].median()\n",
    "diabetes_data[\"Glucose\"] =  diabetes_data[\"Glucose\"].replace(to_replace = 0, value = median_glucose)\n",
    "median_bp = diabetes_data[\"BloodPressure\"].median()\n",
    "diabetes_data[\"BloodPressure\"] =  diabetes_data[\"BloodPressure\"].replace(to_replace = 0, value = median_bp)\n",
    "median_bmi = diabetes_data[\"BMI\"].median()\n",
    "diabetes_data[\"BMI\"] =  diabetes_data[\"BMI\"].replace(to_replace = 0, value = median_bmi)\n",
    "median_insulin = diabetes_data[\"Insulin\"].median()\n",
    "diabetes_data[\"Insulin\"] =  diabetes_data[\"Insulin\"].replace(to_replace = 0, value = median_insulin)\n",
    "median_st = diabetes_data[\"SkinThickness\"].median()\n",
    "diabetes_data[\"SkinThickness\"] =  diabetes_data[\"SkinThickness\"].replace(to_replace = 0, value = median_st)\n",
    "diabetes_data.hist(bins=70, figsize=(20, 15))"
   ]
  },
  {
   "cell_type": "code",
   "execution_count": null,
   "id": "b214717c",
   "metadata": {},
   "outputs": [],
   "source": [
    "sns.heatmap(diabetes_data.corr(), annot = True)"
   ]
  },
  {
   "cell_type": "code",
   "execution_count": null,
   "id": "850e30d1",
   "metadata": {},
   "outputs": [],
   "source": [
    "from sklearn.model_selection import train_test_split\n",
    "train_set, test_set = train_test_split(diabetes_data, test_size = 0.2,random_state = 42)"
   ]
  },
  {
   "cell_type": "code",
   "execution_count": null,
   "id": "265a8c41",
   "metadata": {},
   "outputs": [],
   "source": [
    "train_set_labels = train_set[\"Outcome\"].copy()\n",
    "train_set = train_set.drop(\"Outcome\", axis = 1)\n",
    "test_set_labels = test_set[\"Outcome\"].copy()\n",
    "test_set = test_set.drop(\"Outcome\", axis = 1)"
   ]
  },
  {
   "cell_type": "code",
   "execution_count": null,
   "id": "0f87f738",
   "metadata": {},
   "outputs": [],
   "source": [
    "from sklearn.preprocessing import MinMaxScaler as Scaler\n",
    "scaler = Scaler()\n",
    "scaler.fit(train_set)\n",
    "scaled_train_set = scaler.transform(train_set)\n",
    "scaled_test_set = scaler.transform(test_set)"
   ]
  },
  {
   "cell_type": "code",
   "execution_count": null,
   "id": "8489079a",
   "metadata": {},
   "outputs": [],
   "source": [
    "scaled_df = pd.DataFrame(data = scaled_train_set)\n",
    "scaled_df.head()"
   ]
  },
  {
   "cell_type": "code",
   "execution_count": null,
   "id": "b89ab794",
   "metadata": {},
   "outputs": [],
   "source": [
    "from sklearn.linear_model import LogisticRegression\n",
    "from sklearn.ensemble import RandomForestClassifier\n",
    "from  sklearn.tree import DecisionTreeClassifier\n",
    "import xgboost as xgb\n",
    "from sklearn.neighbors import KNeighborsClassifier\n",
    "from sklearn.svm import SVC\n",
    "from sklearn import model_selection\n",
    "\n",
    "models = []\n",
    "models.append((\"LogReg\", LogisticRegression()))\n",
    "models.append((\"RanFor\", RandomForestClassifier()))\n",
    "models.append((\"DecTree\", DecisionTreeClassifier()))\n",
    "models.append((\"XGB\",xgb.XGBClassifier(use_label_encoder=False,eval_metric='mlogloss')))\n",
    "models.append((\"KNN\",KNeighborsClassifier()))\n",
    "models.append((\"SVC\",SVC()))"
   ]
  },
  {
   "cell_type": "code",
   "execution_count": null,
   "id": "474b8e12",
   "metadata": {},
   "outputs": [],
   "source": [
    "seed = 7\n",
    "results = []\n",
    "names = []\n",
    "X = scaled_train_set\n",
    "Y = train_set_labels"
   ]
  },
  {
   "cell_type": "code",
   "execution_count": null,
   "id": "5651ece3",
   "metadata": {},
   "outputs": [],
   "source": [
    "for name, model in models:\n",
    "    kfolds = model_selection.KFold(n_splits=10)\n",
    "    cv_results  = model_selection.cross_val_score(model, X, Y, cv=kfolds, scoring=\"accuracy\")\n",
    "    results.append(cv_results)\n",
    "    names.append(name)\n",
    "\n",
    "    outcome = \"%s: %f (%f)\" % (name, cv_results.mean(), cv_results.std())\n",
    "    print(outcome)"
   ]
  },
  {
   "cell_type": "code",
   "execution_count": null,
   "id": "04a12fb2",
   "metadata": {},
   "outputs": [],
   "source": [
    "figure = plt.figure()\n",
    "figure.suptitle(\"Algorithms performance\")\n",
    "ax = figure.add_subplot(111)\n",
    "plt.boxplot(results)\n",
    "ax.set_xticklabels(names)\n"
   ]
  },
  {
   "cell_type": "code",
   "execution_count": null,
   "id": "b4518dd8",
   "metadata": {},
   "outputs": [],
   "source": [
    "estimator = xgb.XGBClassifier(\n",
    "    objective= 'binary:logistic',\n",
    "    nthread=4,\n",
    "    seed=42,\n",
    "    use_label_encoder=False,\n",
    "    eval_metric='mlogloss'\n",
    ")"
   ]
  },
  {
   "cell_type": "code",
   "execution_count": null,
   "id": "6f2b267c",
   "metadata": {},
   "outputs": [],
   "source": [
    "parameters = {\n",
    "    'max_depth': range (2, 10, 1),\n",
    "    'n_estimators': range(60, 220, 40),\n",
    "    'learning_rate': [0.1, 0.01, 0.05]\n",
    "}"
   ]
  },
  {
   "cell_type": "code",
   "execution_count": null,
   "id": "00a9603e",
   "metadata": {},
   "outputs": [],
   "source": [
    "from sklearn.model_selection import GridSearchCV\n",
    "grid_search = GridSearchCV(\n",
    "    estimator=estimator,\n",
    "    param_grid=parameters,\n",
    "    scoring = 'roc_auc',\n",
    "    n_jobs = 10,\n",
    "    cv = 10,\n",
    "    verbose=True\n",
    ")\n",
    "grid_search.fit(X,Y)\n"
   ]
  },
  {
   "cell_type": "code",
   "execution_count": null,
   "id": "419a1dc6",
   "metadata": {},
   "outputs": [],
   "source": []
  }
 ],
 "metadata": {
  "kernelspec": {
   "display_name": "Python 3 (ipykernel)",
   "language": "python",
   "name": "python3"
  },
  "language_info": {
   "codemirror_mode": {
    "name": "ipython",
    "version": 3
   },
   "file_extension": ".py",
   "mimetype": "text/x-python",
   "name": "python",
   "nbconvert_exporter": "python",
   "pygments_lexer": "ipython3",
   "version": "3.9.6"
  }
 },
 "nbformat": 4,
 "nbformat_minor": 5
}
